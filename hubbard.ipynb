{
 "cells": [
  {
   "cell_type": "markdown",
   "id": "fcf81aba",
   "metadata": {},
   "source": [
    "# Hubbard Model: A Tunable Model of Electron Correlation\n",
    "**Evangeslista Group Rotation Project**\n",
    "\n",
    "Brian Zhao, 10 Oct 2022"
   ]
  },
  {
   "cell_type": "markdown",
   "id": "08071ff9",
   "metadata": {},
   "source": [
    "We first consider the simplest case, an open, one-dimensional Hubbard model. For an $N$-site $1$-D Hubbard model, we represent a configuration as\n",
    "$$\n",
    "|\\mathbf{\\text{n}}\\rangle = |\\underbrace{k_{1\\uparrow}k_{2\\uparrow}k_{3\\uparrow}\\dots k_{N\\uparrow}}_{\\text{alpha}}\\underbrace{k_{1\\downarrow}k_{2\\downarrow}k_{3\\downarrow}\\dots k_{N\\downarrow}}_{\\text{beta}}\\rangle\n",
    "$$\n",
    "where $k_i$ is the occupatation number of the $i$-th spinorbital."
   ]
  },
  {
   "cell_type": "code",
   "execution_count": 32,
   "id": "4e0cac52",
   "metadata": {},
   "outputs": [],
   "source": [
    "import numpy as np\n",
    "import scipy.special\n",
    "from IPython.display import display, Math\n",
    "\n",
    "class HubbardLattice1D:\n",
    "    def __init__(self, nsites, nalpha, nbeta, t, u):\n",
    "        self.nsites = nsites\n",
    "        self.nalpha = nalpha\n",
    "        self.nbeta = nbeta\n",
    "        self.t = t\n",
    "        self.u = u\n",
    "        self.ms = (nalpha-nbeta)/2.0\n",
    "        \n",
    "        # Unlikely do be doing more than 32 sites for now..\n",
    "        #self.bit_string_len = int(np.ceil(self.nsites*2/64))\n",
    "\n",
    "def enumerate_states(hl):\n",
    "    \"\"\"\n",
    "    Enumerates all states of hl, only conserving Ms symmetry.\n",
    "    \"\"\"\n",
    "    nalpha_combinations = int(scipy.special.binom(hl.nsites, hl.nalpha))\n",
    "    nbeta_combinations = int(scipy.special.binom(hl.nsites, hl.nbeta))\n",
    "    ncomb = nalpha_combinations * nbeta_combinations\n",
    "    mem_reqd = ncomb*8/1e3 # We use 64-bit integers\n",
    "    \n",
    "    print(f\"\"\"There are {nalpha_combinations:d} alpha combinations,\n",
    "{nbeta_combinations:d} beta combinations,\n",
    "making a total of {ncomb:d} combinations,\n",
    "requiring a memory of {mem_reqd:.2f} kB.\"\"\")\n",
    "    \n",
    "    alpha_strings = np.zeros(nalpha_combinations, dtype='int64')\n",
    "    beta_strings = np.zeros(nbeta_combinations, dtype='int64')\n",
    "    tot_strings = np.zeros(ncomb, dtype='int64')\n",
    "    \n",
    "    comb = list(range(hl.nalpha))\n",
    "    alpha_strings[0] = occ_list_to_bit_string(comb)\n",
    "    for i in range(1,nalpha_combinations):\n",
    "        ierr, comb = next_comb(hl.nsites, hl.nalpha, comb)\n",
    "        if (ierr == 1):\n",
    "            print('Too many combinations! Breaking.')\n",
    "            break\n",
    "        alpha_strings[i] = occ_list_to_bit_string(comb)\n",
    "    \n",
    "    comb = list(range(hl.nbeta))\n",
    "    beta_strings[0] = occ_list_to_bit_string(comb)\n",
    "    for i in range(1,nbeta_combinations):\n",
    "        ierr, comb = next_comb(hl.nsites, hl.nbeta, comb)\n",
    "        if (ierr == 1):\n",
    "            print('Too many combinations! Breaking.')\n",
    "            break\n",
    "        beta_strings[i] = occ_list_to_bit_string(comb)\n",
    "    \n",
    "    istring = 0\n",
    "    for ialpha in range(nalpha_combinations):\n",
    "        for ibeta in range(nbeta_combinations):\n",
    "            tot_strings[istring] = ((beta_strings[ibeta])<<hl.nsites) | (alpha_strings[ialpha])\n",
    "            istring += 1\n",
    "    \n",
    "    return alpha_strings, beta_strings, tot_strings\n",
    "\n",
    "    \n",
    "def next_comb(n, k, comb):\n",
    "    i = k-1\n",
    "    comb[i] += 1\n",
    "    \n",
    "    while (comb[i] >= n - k + 1 + i):\n",
    "        i -= 1\n",
    "        if (i < 0):\n",
    "            break\n",
    "        comb[i] += 1\n",
    "    \n",
    "    if (comb[0] > n-k):\n",
    "        ierr = 1\n",
    "    else:\n",
    "        ierr = 0\n",
    "        for j in range(i+1, k):\n",
    "            comb[j] = comb[j-1] + 1\n",
    "            \n",
    "    return ierr, comb\n",
    "\n",
    "def occ_list_to_bit_string(occ_list):\n",
    "    bstring = 0\n",
    "    for i in range(len(occ_list)):\n",
    "        bstring = bstring | (1<<occ_list[i])\n",
    "    return bstring\n",
    "\n",
    "def bit_string_to_occ_vec(hl, bstring):\n",
    "    ov_alpha = np.zeros(hl.nsites, dtype='int32')\n",
    "    ov_beta = np.zeros(hl.nsites, dtype='int32')\n",
    "    \n",
    "    for i in range(hl.nsites):\n",
    "        ov_alpha[i] += (bstring>>i) & 1\n",
    "        ov_beta[i] += (bstring>>(i+hl.nsites)) & 1\n",
    "        \n",
    "    return ov_alpha, ov_beta, (ov_alpha+ov_beta)\n",
    "        \n",
    "\n",
    "def pretty_print_state(hl, ov_alpha, ov_beta):\n",
    "    string = '$|'\n",
    "    for i in range(hl.nsites):\n",
    "        if ov_alpha[i] == 0 and ov_beta[i] == 0:\n",
    "            string += '-'\n",
    "        elif ov_alpha[i] == 1 and ov_beta[i] == 0:\n",
    "            string += '\\\\uparrow'\n",
    "        elif ov_alpha[i] == 0 and ov_beta[i] == 1:\n",
    "            string += '\\\\downarrow'\n",
    "        elif ov_alpha[i] == 1 and ov_beta[i] == 1:\n",
    "            string += '\\\\uparrow\\\\downarrow'\n",
    "        \n",
    "        if i != hl.nsites-1:\n",
    "            string += ','\n",
    "        else:\n",
    "            string += '\\\\rangle$'\n",
    "    \n",
    "    display(Math(string))"
   ]
  },
  {
   "cell_type": "markdown",
   "id": "a69ef46e",
   "metadata": {},
   "source": [
    "## Testing ground below"
   ]
  },
  {
   "cell_type": "code",
   "execution_count": 47,
   "id": "29eb986e",
   "metadata": {},
   "outputs": [
    {
     "data": {
      "text/plain": [
       "23"
      ]
     },
     "execution_count": 47,
     "metadata": {},
     "output_type": "execute_result"
    }
   ],
   "source": [
    "occ_list_to_bit_string([0,1,2,4])"
   ]
  },
  {
   "cell_type": "code",
   "execution_count": 24,
   "id": "8485ac90",
   "metadata": {},
   "outputs": [],
   "source": [
    "ova, ovb, ovt = bit_string_to_occ_vec(hl, 83)"
   ]
  },
  {
   "cell_type": "code",
   "execution_count": 33,
   "id": "bd0b5512",
   "metadata": {},
   "outputs": [
    {
     "data": {
      "text/latex": [
       "$\\displaystyle |\\uparrow\\downarrow,\\uparrow,\\downarrow,-\\rangle$"
      ],
      "text/plain": [
       "<IPython.core.display.Math object>"
      ]
     },
     "metadata": {},
     "output_type": "display_data"
    }
   ],
   "source": [
    "string = pretty_print_state(hl, ova, ovb)"
   ]
  },
  {
   "cell_type": "code",
   "execution_count": 31,
   "id": "3e571d27",
   "metadata": {},
   "outputs": [
    {
     "data": {
      "text/latex": [
       "$\\displaystyle |\\uparrow\\downarrow,\\uparrow,\\downarrow,-\\rangle$"
      ],
      "text/plain": [
       "<IPython.core.display.Math object>"
      ]
     },
     "metadata": {},
     "output_type": "display_data"
    }
   ],
   "source": [
    "display(Math(string))"
   ]
  },
  {
   "cell_type": "code",
   "execution_count": 28,
   "id": "6a75523a",
   "metadata": {},
   "outputs": [
    {
     "data": {
      "text/plain": [
       "array([2, 1, 1, 0], dtype=int32)"
      ]
     },
     "execution_count": 28,
     "metadata": {},
     "output_type": "execute_result"
    }
   ],
   "source": [
    "ovt"
   ]
  },
  {
   "cell_type": "code",
   "execution_count": 8,
   "id": "b172a4b0",
   "metadata": {},
   "outputs": [
    {
     "name": "stdout",
     "output_type": "stream",
     "text": [
      "There are 6 alpha combinations,\n",
      "6 beta combinations,\n",
      "making a total of 36 combinations,\n",
      "requiring a memory of 0.29 kB.\n"
     ]
    },
    {
     "data": {
      "text/plain": [
       "(array([ 3,  5,  9,  6, 10, 12]),\n",
       " array([ 3,  5,  9,  6, 10, 12]),\n",
       " array([ 51,  83, 147,  99, 163, 195,  53,  85, 149, 101, 165, 197,  57,\n",
       "         89, 153, 105, 169, 201,  54,  86, 150, 102, 166, 198,  58,  90,\n",
       "        154, 106, 170, 202,  60,  92, 156, 108, 172, 204]))"
      ]
     },
     "execution_count": 8,
     "metadata": {},
     "output_type": "execute_result"
    }
   ],
   "source": [
    "hl = HubbardLattice1D(4, 2, 2, 1, 0)\n",
    "enumerate_states(hl)"
   ]
  },
  {
   "cell_type": "code",
   "execution_count": 31,
   "id": "5fbb1535",
   "metadata": {},
   "outputs": [
    {
     "name": "stdout",
     "output_type": "stream",
     "text": [
      "[0, 1, 2, 3]\n",
      "[0, 1, 2, 4]\n",
      "[0, 1, 2, 5]\n",
      "[0, 1, 2, 6]\n",
      "[0, 1, 2, 7]\n",
      "[0, 1, 3, 4]\n",
      "[0, 1, 3, 5]\n",
      "[0, 1, 3, 6]\n",
      "[0, 1, 3, 7]\n",
      "[0, 1, 4, 5]\n",
      "[0, 1, 4, 6]\n",
      "[0, 1, 4, 7]\n",
      "[0, 1, 5, 6]\n",
      "[0, 1, 5, 7]\n",
      "[0, 1, 6, 7]\n",
      "[0, 2, 3, 4]\n",
      "[0, 2, 3, 5]\n",
      "[0, 2, 3, 6]\n",
      "[0, 2, 3, 7]\n",
      "[0, 2, 4, 5]\n",
      "[0, 2, 4, 6]\n",
      "[0, 2, 4, 7]\n",
      "[0, 2, 5, 6]\n",
      "[0, 2, 5, 7]\n",
      "[0, 2, 6, 7]\n",
      "[0, 3, 4, 5]\n",
      "[0, 3, 4, 6]\n",
      "[0, 3, 4, 7]\n",
      "[0, 3, 5, 6]\n",
      "[0, 3, 5, 7]\n",
      "[0, 3, 6, 7]\n",
      "[0, 4, 5, 6]\n",
      "[0, 4, 5, 7]\n",
      "[0, 4, 6, 7]\n",
      "[0, 5, 6, 7]\n",
      "[1, 2, 3, 4]\n",
      "[1, 2, 3, 5]\n",
      "[1, 2, 3, 6]\n",
      "[1, 2, 3, 7]\n",
      "[1, 2, 4, 5]\n",
      "[1, 2, 4, 6]\n",
      "[1, 2, 4, 7]\n",
      "[1, 2, 5, 6]\n",
      "[1, 2, 5, 7]\n",
      "[1, 2, 6, 7]\n",
      "[1, 3, 4, 5]\n",
      "[1, 3, 4, 6]\n",
      "[1, 3, 4, 7]\n",
      "[1, 3, 5, 6]\n",
      "[1, 3, 5, 7]\n",
      "[1, 3, 6, 7]\n",
      "[1, 4, 5, 6]\n",
      "[1, 4, 5, 7]\n",
      "[1, 4, 6, 7]\n",
      "[1, 5, 6, 7]\n",
      "[2, 3, 4, 5]\n",
      "[2, 3, 4, 6]\n",
      "[2, 3, 4, 7]\n",
      "[2, 3, 5, 6]\n",
      "[2, 3, 5, 7]\n",
      "[2, 3, 6, 7]\n",
      "[2, 4, 5, 6]\n",
      "[2, 4, 5, 7]\n",
      "[2, 4, 6, 7]\n",
      "[2, 5, 6, 7]\n",
      "[3, 4, 5, 6]\n",
      "[3, 4, 5, 7]\n",
      "[3, 4, 6, 7]\n",
      "[3, 5, 6, 7]\n",
      "[4, 5, 6, 7]\n",
      "ncomb = 70\n"
     ]
    }
   ],
   "source": [
    "comb = list(range(4))\n",
    "print(comb)\n",
    "ncomb = 1\n",
    "while True:\n",
    "    ierr,comb = next_comb(8,4,comb)\n",
    "    if (ierr == 1):\n",
    "        break\n",
    "    print(comb)\n",
    "    ncomb += 1\n",
    "print(f'ncomb = {ncomb}')"
   ]
  },
  {
   "cell_type": "code",
   "execution_count": 28,
   "id": "38004dbd",
   "metadata": {},
   "outputs": [
    {
     "data": {
      "text/plain": [
       "(0, [0, 1, 4, 6])"
      ]
     },
     "execution_count": 28,
     "metadata": {},
     "output_type": "execute_result"
    }
   ],
   "source": [
    "next_comb(8,4,comb)"
   ]
  },
  {
   "cell_type": "code",
   "execution_count": null,
   "id": "ae73f478",
   "metadata": {},
   "outputs": [],
   "source": []
  }
 ],
 "metadata": {
  "kernelspec": {
   "display_name": "Python 3",
   "language": "python",
   "name": "python3"
  },
  "language_info": {
   "codemirror_mode": {
    "name": "ipython",
    "version": 3
   },
   "file_extension": ".py",
   "mimetype": "text/x-python",
   "name": "python",
   "nbconvert_exporter": "python",
   "pygments_lexer": "ipython3",
   "version": "3.8.8"
  }
 },
 "nbformat": 4,
 "nbformat_minor": 5
}
