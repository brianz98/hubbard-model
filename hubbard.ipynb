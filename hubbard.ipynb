{
 "cells": [
  {
   "cell_type": "markdown",
   "id": "fcf81aba",
   "metadata": {},
   "source": [
    "# Hubbard Model: A Tunable Model of Electron Correlation\n",
    "**Evangeslista Group Rotation Project**\n",
    "\n",
    "Brian Zhao, 10 Oct 2022"
   ]
  },
  {
   "cell_type": "markdown",
   "id": "08071ff9",
   "metadata": {},
   "source": [
    "We first consider the simplest case, an open, one-dimensional Hubbard model. For an $N$-site $1$-D Hubbard model, we represent a configuration as\n",
    "$$\n",
    "|\\mathbf{\\text{n}}\\rangle = |\\underbrace{k_{1\\uparrow}k_{2\\uparrow}k_{3\\uparrow}\\dots k_{N\\uparrow}}_{\\text{alpha}}\\underbrace{k_{1\\downarrow}k_{2\\downarrow}k_{3\\downarrow}\\dots k_{N\\downarrow}}_{\\text{beta}}\\rangle\n",
    "$$\n",
    "where $k_i$ is the occupatation number of the $i$-th spinorbital."
   ]
  },
  {
   "cell_type": "code",
   "execution_count": 46,
   "id": "4e0cac52",
   "metadata": {},
   "outputs": [],
   "source": [
    "import numpy as np\n",
    "import scipy.special\n",
    "from IPython.display import display, Math\n",
    "\n",
    "class HubbardLattice1D:\n",
    "    def __init__(self, nsites, nalpha, nbeta, t, u):\n",
    "        self.nsites = nsites\n",
    "        self.nalpha = nalpha\n",
    "        self.nbeta = nbeta\n",
    "        self.t = t\n",
    "        self.u = u\n",
    "        self.ms = (nalpha-nbeta)/2.0\n",
    "        \n",
    "        self.nalpha_combinations = None\n",
    "        self.nbeta_combinations = None\n",
    "        self.ncomb = None\n",
    "        self.mem_reqd = None\n",
    "        self.alpha_strings = None\n",
    "        self.beta_strings = None\n",
    "        self.tot_strings = None\n",
    "        \n",
    "        # Unlikely do be doing more than 32 sites for now..\n",
    "        #self.bit_string_len = int(np.ceil(self.nsites*2/64))\n",
    "\n",
    "    def enumerate_states(self):\n",
    "        \"\"\"\n",
    "        Enumerates all states of hl, only conserving Ms symmetry.\n",
    "        \"\"\"\n",
    "        self.nalpha_combinations = int(scipy.special.binom(self.nsites, self.nalpha))\n",
    "        self.nbeta_combinations = int(scipy.special.binom(self.nsites, self.nbeta))\n",
    "        self.ncomb = self.nalpha_combinations * self.nbeta_combinations\n",
    "        self.mem_reqd = self.ncomb*8/1e3 # We use 64-bit integers\n",
    "\n",
    "        print(f\"\"\"There are {self.nalpha_combinations:d} alpha combinations,\n",
    "{self.nbeta_combinations:d} beta combinations,\n",
    "making a total of {self.ncomb:d} combinations,\n",
    "requiring a memory of {self.mem_reqd:.2f} kB.\"\"\")\n",
    "\n",
    "        self.alpha_strings = np.zeros(self.nalpha_combinations, dtype='int64')\n",
    "        self.beta_strings = np.zeros(self.nbeta_combinations, dtype='int64')\n",
    "        self.tot_strings = np.zeros(self.ncomb, dtype='int64')\n",
    "\n",
    "        comb = list(range(self.nalpha))\n",
    "        self.alpha_strings[0] = occ_list_to_bit_string(comb)\n",
    "        for i in range(1,self.nalpha_combinations):\n",
    "            ierr, comb = next_comb(self.nsites, self.nalpha, comb)\n",
    "            if (ierr == 1):\n",
    "                print('Too many combinations! Breaking.')\n",
    "                break\n",
    "            self.alpha_strings[i] = occ_list_to_bit_string(comb)\n",
    "\n",
    "        comb = list(range(self.nbeta))\n",
    "        self.beta_strings[0] = occ_list_to_bit_string(comb)\n",
    "        for i in range(1,self.nbeta_combinations):\n",
    "            ierr, comb = next_comb(self.nsites, self.nbeta, comb)\n",
    "            if (ierr == 1):\n",
    "                print('Too many combinations! Breaking.')\n",
    "                break\n",
    "            self.beta_strings[i] = occ_list_to_bit_string(comb)\n",
    "\n",
    "        istring = 0\n",
    "        for ialpha in range(self.nalpha_combinations):\n",
    "            for ibeta in range(self.nbeta_combinations):\n",
    "                self.tot_strings[istring] = ((self.beta_strings[ibeta])<<self.nsites) | (self.alpha_strings[ialpha])\n",
    "                istring += 1\n",
    "                \n",
    "    def bit_string_to_occ_vec(self, bstring):\n",
    "        ov_alpha = np.zeros(self.nsites, dtype='int32')\n",
    "        ov_beta = np.zeros(self.nsites, dtype='int32')\n",
    "\n",
    "        for i in range(self.nsites):\n",
    "            ov_alpha[i] += (bstring>>i) & 1\n",
    "            ov_beta[i] += (bstring>>(i+self.nsites)) & 1\n",
    "\n",
    "        return ov_alpha, ov_beta, (ov_alpha+ov_beta)\n",
    "\n",
    "\n",
    "    def pretty_print_state(self, bstring):\n",
    "        ov_alpha,ov_beta,_ = self.bit_string_to_occ_vec(bstring)\n",
    "        string = '$|'\n",
    "        for i in range(self.nsites):\n",
    "            if ov_alpha[i] == 0 and ov_beta[i] == 0:\n",
    "                string += '-'\n",
    "            elif ov_alpha[i] == 1 and ov_beta[i] == 0:\n",
    "                string += '\\\\uparrow'\n",
    "            elif ov_alpha[i] == 0 and ov_beta[i] == 1:\n",
    "                string += '\\\\downarrow'\n",
    "            elif ov_alpha[i] == 1 and ov_beta[i] == 1:\n",
    "                string += '\\\\uparrow\\\\downarrow'\n",
    "\n",
    "            if i != self.nsites-1:\n",
    "                string += ','\n",
    "            else:\n",
    "                string += '\\\\rangle$'\n",
    "\n",
    "        display(Math(string))\n",
    "\n",
    "    def pretty_print_states(self):\n",
    "        print(f'There are {self.ncomb:d} states with {self.nalpha:d} alpha electrons and {self.nbeta:d} beta electrons in {self.nsites:d} sites.')\n",
    "        for i in range(len(self.tot_strings)):\n",
    "            self.pretty_print_state(self.tot_strings[i])\n",
    "            \n",
    "    def get_hmatel(self):\n",
    "        pass\n",
    "            \n",
    "def get_excitation_level(f1, f2):\n",
    "    return int(count_set_bits(f1^f2)/2)\n",
    "\n",
    "def count_set_bits(f):\n",
    "    return int(bin(f).count('1'))\n",
    "\n",
    "def set_bit(f, bit_loc):\n",
    "    \"\"\"\n",
    "    bit_loc is zero-indexed\n",
    "    \"\"\"\n",
    "    return f | 1<<bit_loc\n",
    "\n",
    "def clear_bit(f, bit_loc):\n",
    "    \"\"\"\n",
    "    bit_loc is zero-indexed\n",
    "    \"\"\"\n",
    "    return f & ~(1<<bit_loc)\n",
    "\n",
    "def next_comb(n, k, comb):\n",
    "    i = k-1\n",
    "    comb[i] += 1\n",
    "    \n",
    "    while (comb[i] >= n - k + 1 + i):\n",
    "        i -= 1\n",
    "        if (i < 0):\n",
    "            break\n",
    "        comb[i] += 1\n",
    "    \n",
    "    if (comb[0] > n-k):\n",
    "        ierr = 1\n",
    "    else:\n",
    "        ierr = 0\n",
    "        for j in range(i+1, k):\n",
    "            comb[j] = comb[j-1] + 1\n",
    "            \n",
    "    return ierr, comb\n",
    "\n",
    "def occ_list_to_bit_string(occ_list):\n",
    "    bstring = 0\n",
    "    for i in range(len(occ_list)):\n",
    "        bstring = set_bit(bstring, occ_list[i])\n",
    "    return bstring\n",
    "\n",
    "def creop(bit_string, spinorb):\n",
    "    # If the bit is set then sgn = 0\n",
    "    if ((bit_string>>(spinorb)) & 1):\n",
    "        sgn = 0\n",
    "    else:\n",
    "        test_string = 0\n",
    "        for i in range(spinorb):\n",
    "            test_string = set_bit(test_string, i)\n",
    "        sgn = (-1)**(count_set_bits(bit_string & test_string))\n",
    "        bit_string = set_bit(bit_string, spinorb)\n",
    "        \n",
    "    return (sgn, bit_string)\n",
    "\n",
    "def annop(bit_string, spinorb):\n",
    "    if ((bit_string>>(spinorb)) & 0):\n",
    "        sgn = 0\n",
    "    else:\n",
    "        test_string = 0\n",
    "        for i in range(spinorb):\n",
    "            test_string = set_bit(test_string, i)\n",
    "        sgn = (-1)**(count_set_bits(bit_string & test_string))\n",
    "        bit_string = clear_bit(bit_string, spinorb)\n",
    "        \n",
    "    return (sgn, bit_string)"
   ]
  },
  {
   "cell_type": "markdown",
   "id": "a69ef46e",
   "metadata": {},
   "source": [
    "## Testing ground below"
   ]
  },
  {
   "cell_type": "code",
   "execution_count": 47,
   "id": "4ec5d3fa",
   "metadata": {},
   "outputs": [
    {
     "data": {
      "text/plain": [
       "(-1, 1)"
      ]
     },
     "execution_count": 47,
     "metadata": {},
     "output_type": "execute_result"
    }
   ],
   "source": [
    "annop(3,1)"
   ]
  },
  {
   "cell_type": "code",
   "execution_count": 34,
   "id": "14888206",
   "metadata": {},
   "outputs": [
    {
     "data": {
      "text/plain": [
       "2"
      ]
     },
     "execution_count": 34,
     "metadata": {},
     "output_type": "execute_result"
    }
   ],
   "source": [
    "get_excitation_level(15,51)"
   ]
  },
  {
   "cell_type": "code",
   "execution_count": 37,
   "id": "fe7a8cb2",
   "metadata": {},
   "outputs": [
    {
     "data": {
      "text/plain": [
       "31"
      ]
     },
     "execution_count": 37,
     "metadata": {},
     "output_type": "execute_result"
    }
   ],
   "source": [
    "set_bit(15,4)"
   ]
  },
  {
   "cell_type": "code",
   "execution_count": 23,
   "id": "b172a4b0",
   "metadata": {},
   "outputs": [
    {
     "name": "stdout",
     "output_type": "stream",
     "text": [
      "There are 6 alpha combinations,\n",
      "6 beta combinations,\n",
      "making a total of 36 combinations,\n",
      "requiring a memory of 0.29 kB.\n"
     ]
    }
   ],
   "source": [
    "hl = HubbardLattice1D(4, 2, 2, 1, 0)\n",
    "hl.enumerate_states()\n",
    "#hl.pretty_print_states()"
   ]
  },
  {
   "cell_type": "code",
   "execution_count": 39,
   "id": "29eb986e",
   "metadata": {},
   "outputs": [
    {
     "data": {
      "text/plain": [
       "23"
      ]
     },
     "execution_count": 39,
     "metadata": {},
     "output_type": "execute_result"
    }
   ],
   "source": [
    "occ_list_to_bit_string([0,1,2,4])"
   ]
  },
  {
   "cell_type": "code",
   "execution_count": 24,
   "id": "8ad027df",
   "metadata": {},
   "outputs": [],
   "source": [
    "ova, ovb, ovt = bit_string_to_occ_vec(hl, 83)"
   ]
  },
  {
   "cell_type": "code",
   "execution_count": 33,
   "id": "e0fd84f6",
   "metadata": {},
   "outputs": [
    {
     "data": {
      "text/latex": [
       "$\\displaystyle |\\uparrow\\downarrow,\\uparrow,\\downarrow,-\\rangle$"
      ],
      "text/plain": [
       "<IPython.core.display.Math object>"
      ]
     },
     "metadata": {},
     "output_type": "display_data"
    }
   ],
   "source": [
    "string = pretty_print_state(hl, ova, ovb)"
   ]
  },
  {
   "cell_type": "code",
   "execution_count": 31,
   "id": "c047cf9c",
   "metadata": {},
   "outputs": [
    {
     "data": {
      "text/latex": [
       "$\\displaystyle |\\uparrow\\downarrow,\\uparrow,\\downarrow,-\\rangle$"
      ],
      "text/plain": [
       "<IPython.core.display.Math object>"
      ]
     },
     "metadata": {},
     "output_type": "display_data"
    }
   ],
   "source": [
    "display(Math(string))"
   ]
  },
  {
   "cell_type": "code",
   "execution_count": 28,
   "id": "8d00490a",
   "metadata": {},
   "outputs": [
    {
     "data": {
      "text/plain": [
       "array([2, 1, 1, 0], dtype=int32)"
      ]
     },
     "execution_count": 28,
     "metadata": {},
     "output_type": "execute_result"
    }
   ],
   "source": [
    "ovt"
   ]
  },
  {
   "cell_type": "code",
   "execution_count": 31,
   "id": "5fbb1535",
   "metadata": {},
   "outputs": [
    {
     "name": "stdout",
     "output_type": "stream",
     "text": [
      "[0, 1, 2, 3]\n",
      "[0, 1, 2, 4]\n",
      "[0, 1, 2, 5]\n",
      "[0, 1, 2, 6]\n",
      "[0, 1, 2, 7]\n",
      "[0, 1, 3, 4]\n",
      "[0, 1, 3, 5]\n",
      "[0, 1, 3, 6]\n",
      "[0, 1, 3, 7]\n",
      "[0, 1, 4, 5]\n",
      "[0, 1, 4, 6]\n",
      "[0, 1, 4, 7]\n",
      "[0, 1, 5, 6]\n",
      "[0, 1, 5, 7]\n",
      "[0, 1, 6, 7]\n",
      "[0, 2, 3, 4]\n",
      "[0, 2, 3, 5]\n",
      "[0, 2, 3, 6]\n",
      "[0, 2, 3, 7]\n",
      "[0, 2, 4, 5]\n",
      "[0, 2, 4, 6]\n",
      "[0, 2, 4, 7]\n",
      "[0, 2, 5, 6]\n",
      "[0, 2, 5, 7]\n",
      "[0, 2, 6, 7]\n",
      "[0, 3, 4, 5]\n",
      "[0, 3, 4, 6]\n",
      "[0, 3, 4, 7]\n",
      "[0, 3, 5, 6]\n",
      "[0, 3, 5, 7]\n",
      "[0, 3, 6, 7]\n",
      "[0, 4, 5, 6]\n",
      "[0, 4, 5, 7]\n",
      "[0, 4, 6, 7]\n",
      "[0, 5, 6, 7]\n",
      "[1, 2, 3, 4]\n",
      "[1, 2, 3, 5]\n",
      "[1, 2, 3, 6]\n",
      "[1, 2, 3, 7]\n",
      "[1, 2, 4, 5]\n",
      "[1, 2, 4, 6]\n",
      "[1, 2, 4, 7]\n",
      "[1, 2, 5, 6]\n",
      "[1, 2, 5, 7]\n",
      "[1, 2, 6, 7]\n",
      "[1, 3, 4, 5]\n",
      "[1, 3, 4, 6]\n",
      "[1, 3, 4, 7]\n",
      "[1, 3, 5, 6]\n",
      "[1, 3, 5, 7]\n",
      "[1, 3, 6, 7]\n",
      "[1, 4, 5, 6]\n",
      "[1, 4, 5, 7]\n",
      "[1, 4, 6, 7]\n",
      "[1, 5, 6, 7]\n",
      "[2, 3, 4, 5]\n",
      "[2, 3, 4, 6]\n",
      "[2, 3, 4, 7]\n",
      "[2, 3, 5, 6]\n",
      "[2, 3, 5, 7]\n",
      "[2, 3, 6, 7]\n",
      "[2, 4, 5, 6]\n",
      "[2, 4, 5, 7]\n",
      "[2, 4, 6, 7]\n",
      "[2, 5, 6, 7]\n",
      "[3, 4, 5, 6]\n",
      "[3, 4, 5, 7]\n",
      "[3, 4, 6, 7]\n",
      "[3, 5, 6, 7]\n",
      "[4, 5, 6, 7]\n",
      "ncomb = 70\n"
     ]
    }
   ],
   "source": [
    "comb = list(range(4))\n",
    "print(comb)\n",
    "ncomb = 1\n",
    "while True:\n",
    "    ierr,comb = next_comb(8,4,comb)\n",
    "    if (ierr == 1):\n",
    "        break\n",
    "    print(comb)\n",
    "    ncomb += 1\n",
    "print(f'ncomb = {ncomb}')"
   ]
  },
  {
   "cell_type": "code",
   "execution_count": 28,
   "id": "38004dbd",
   "metadata": {},
   "outputs": [
    {
     "data": {
      "text/plain": [
       "(0, [0, 1, 4, 6])"
      ]
     },
     "execution_count": 28,
     "metadata": {},
     "output_type": "execute_result"
    }
   ],
   "source": [
    "next_comb(8,4,comb)"
   ]
  },
  {
   "cell_type": "code",
   "execution_count": null,
   "id": "ae73f478",
   "metadata": {},
   "outputs": [],
   "source": []
  }
 ],
 "metadata": {
  "kernelspec": {
   "display_name": "Python 3",
   "language": "python",
   "name": "python3"
  },
  "language_info": {
   "codemirror_mode": {
    "name": "ipython",
    "version": 3
   },
   "file_extension": ".py",
   "mimetype": "text/x-python",
   "name": "python",
   "nbconvert_exporter": "python",
   "pygments_lexer": "ipython3",
   "version": "3.8.8"
  }
 },
 "nbformat": 4,
 "nbformat_minor": 5
}
