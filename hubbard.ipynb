{
 "cells": [
  {
   "cell_type": "markdown",
   "id": "0a5c5c51",
   "metadata": {},
   "source": [
    "# Hubbard Model: A Tunable Model of Electron Correlation\n",
    "**Evangeslista Group Rotation Project**\n",
    "\n",
    "Brian Zhao, 10 Oct 2022"
   ]
  },
  {
   "cell_type": "markdown",
   "id": "71f4b3d9",
   "metadata": {},
   "source": [
    "We first consider the simplest case, an open, one-dimensional Hubbard model. For an $N$-site $1$-D Hubbard model, we represent a configuration as\n",
    "$$\n",
    "|\\mathbf{\\text{n}}\\rangle = |\\underbrace{k_{1\\uparrow}k_{2\\uparrow}k_{3\\uparrow}\\dots k_{N\\uparrow}}_{\\text{alpha}}\\underbrace{k_{1\\downarrow}k_{2\\downarrow}k_{3\\downarrow}\\dots k_{N\\downarrow}}_{\\text{beta}}\\rangle\n",
    "$$\n",
    "where $k_i$ is the occupatation number of the $i$-th spinorbital."
   ]
  },
  {
   "cell_type": "code",
   "execution_count": 17,
   "id": "672f15d1",
   "metadata": {},
   "outputs": [],
   "source": [
    "import numpy as np\n",
    "import scipy.special\n",
    "\n",
    "class HubbardLattice1D:\n",
    "    def __init__(self, nsites, nalpha, nbeta, t, u):\n",
    "        self.nsites = nsites\n",
    "        self.nalpha = nalpha\n",
    "        self.nbeta = nbeta\n",
    "        self.t = t\n",
    "        self.u = u\n",
    "        self.ms = (nalpha-nbeta)/2.0\n",
    "        \n",
    "        # Unlikely do be doing more than 32 sites for now..\n",
    "        #self.bit_string_len = int(np.ceil(self.nsites*2/64))\n",
    "\n",
    "def enumerate_states(hl):\n",
    "    \"\"\"\n",
    "    Enumerates all states of hl, only conserving Ms symmetry.\n",
    "    \"\"\"\n",
    "    nalpha_combinations = int(scipy.special.binom(hl.nsites, hl.nalpha))\n",
    "    nbeta_combinations = int(scipy.special.binom(hl.nsites, hl.nbeta))\n",
    "    ncomb = nalpha_combinations * nbeta_combinations\n",
    "    mem_reqd = ncomb*8/1e3 # We use 64-bit integers\n",
    "    \n",
    "    print(f\"\"\"There are {nalpha_combinations:d} alpha combinations,\n",
    "{nbeta_combinations:d} beta combinations,\n",
    "making a total of {ncomb:d} combinations,\n",
    "requiring a memory of {mem_reqd:.2f} kB.\"\"\")\n",
    "    \n",
    "def next_comb(n, k, comb):\n",
    "    i = k-1\n",
    "    comb[i] += 1\n",
    "    \n",
    "    while (comb[i] >= n - k + 1 + i):\n",
    "        i -= 1\n",
    "        if (i < 0):\n",
    "            break\n",
    "        comb[i] += 1\n",
    "    \n",
    "    if (comb[0] > n-k):\n",
    "        ierr = 1\n",
    "    else:\n",
    "        ierr = 0\n",
    "        for j in range(i+1, k):\n",
    "            comb[j] = comb[j-1] + 1\n",
    "            \n",
    "    return ierr, comb"
   ]
  },
  {
   "cell_type": "markdown",
   "id": "5de221e6",
   "metadata": {},
   "source": [
    "## Testing ground below"
   ]
  },
  {
   "cell_type": "code",
   "execution_count": 15,
   "id": "8fc85f0b",
   "metadata": {},
   "outputs": [
    {
     "name": "stdout",
     "output_type": "stream",
     "text": [
      "There are 6 alpha combinations,\n",
      "6 beta combinations,\n",
      "making a total of 36 combinations,\n",
      "requiring a memory of 0.29 kB.\n"
     ]
    }
   ],
   "source": [
    "hl = HubbardLattice1D(4, 2, 2, 1, 0)\n",
    "enumerate_states(hl)"
   ]
  },
  {
   "cell_type": "code",
   "execution_count": 31,
   "id": "db17d96d",
   "metadata": {},
   "outputs": [
    {
     "name": "stdout",
     "output_type": "stream",
     "text": [
      "[0, 1, 2, 3]\n",
      "[0, 1, 2, 4]\n",
      "[0, 1, 2, 5]\n",
      "[0, 1, 2, 6]\n",
      "[0, 1, 2, 7]\n",
      "[0, 1, 3, 4]\n",
      "[0, 1, 3, 5]\n",
      "[0, 1, 3, 6]\n",
      "[0, 1, 3, 7]\n",
      "[0, 1, 4, 5]\n",
      "[0, 1, 4, 6]\n",
      "[0, 1, 4, 7]\n",
      "[0, 1, 5, 6]\n",
      "[0, 1, 5, 7]\n",
      "[0, 1, 6, 7]\n",
      "[0, 2, 3, 4]\n",
      "[0, 2, 3, 5]\n",
      "[0, 2, 3, 6]\n",
      "[0, 2, 3, 7]\n",
      "[0, 2, 4, 5]\n",
      "[0, 2, 4, 6]\n",
      "[0, 2, 4, 7]\n",
      "[0, 2, 5, 6]\n",
      "[0, 2, 5, 7]\n",
      "[0, 2, 6, 7]\n",
      "[0, 3, 4, 5]\n",
      "[0, 3, 4, 6]\n",
      "[0, 3, 4, 7]\n",
      "[0, 3, 5, 6]\n",
      "[0, 3, 5, 7]\n",
      "[0, 3, 6, 7]\n",
      "[0, 4, 5, 6]\n",
      "[0, 4, 5, 7]\n",
      "[0, 4, 6, 7]\n",
      "[0, 5, 6, 7]\n",
      "[1, 2, 3, 4]\n",
      "[1, 2, 3, 5]\n",
      "[1, 2, 3, 6]\n",
      "[1, 2, 3, 7]\n",
      "[1, 2, 4, 5]\n",
      "[1, 2, 4, 6]\n",
      "[1, 2, 4, 7]\n",
      "[1, 2, 5, 6]\n",
      "[1, 2, 5, 7]\n",
      "[1, 2, 6, 7]\n",
      "[1, 3, 4, 5]\n",
      "[1, 3, 4, 6]\n",
      "[1, 3, 4, 7]\n",
      "[1, 3, 5, 6]\n",
      "[1, 3, 5, 7]\n",
      "[1, 3, 6, 7]\n",
      "[1, 4, 5, 6]\n",
      "[1, 4, 5, 7]\n",
      "[1, 4, 6, 7]\n",
      "[1, 5, 6, 7]\n",
      "[2, 3, 4, 5]\n",
      "[2, 3, 4, 6]\n",
      "[2, 3, 4, 7]\n",
      "[2, 3, 5, 6]\n",
      "[2, 3, 5, 7]\n",
      "[2, 3, 6, 7]\n",
      "[2, 4, 5, 6]\n",
      "[2, 4, 5, 7]\n",
      "[2, 4, 6, 7]\n",
      "[2, 5, 6, 7]\n",
      "[3, 4, 5, 6]\n",
      "[3, 4, 5, 7]\n",
      "[3, 4, 6, 7]\n",
      "[3, 5, 6, 7]\n",
      "[4, 5, 6, 7]\n",
      "ncomb = 70\n"
     ]
    }
   ],
   "source": [
    "comb = list(range(4))\n",
    "print(comb)\n",
    "ncomb = 1\n",
    "while True:\n",
    "    ierr,comb = next_comb(8,4,comb)\n",
    "    if (ierr == 1):\n",
    "        break\n",
    "    print(comb)\n",
    "    ncomb += 1\n",
    "print(f'ncomb = {ncomb}')"
   ]
  },
  {
   "cell_type": "code",
   "execution_count": 28,
   "id": "3c1b8fca",
   "metadata": {},
   "outputs": [
    {
     "data": {
      "text/plain": [
       "(0, [0, 1, 4, 6])"
      ]
     },
     "execution_count": 28,
     "metadata": {},
     "output_type": "execute_result"
    }
   ],
   "source": [
    "next_comb(8,4,comb)"
   ]
  },
  {
   "cell_type": "code",
   "execution_count": null,
   "id": "f7b29a31",
   "metadata": {},
   "outputs": [],
   "source": []
  }
 ],
 "metadata": {
  "kernelspec": {
   "display_name": "Python 3",
   "language": "python",
   "name": "python3"
  },
  "language_info": {
   "codemirror_mode": {
    "name": "ipython",
    "version": 3
   },
   "file_extension": ".py",
   "mimetype": "text/x-python",
   "name": "python",
   "nbconvert_exporter": "python",
   "pygments_lexer": "ipython3",
   "version": "3.8.8"
  }
 },
 "nbformat": 4,
 "nbformat_minor": 5
}
